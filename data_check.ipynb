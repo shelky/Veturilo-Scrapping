{
 "cells": [
  {
   "cell_type": "markdown",
   "metadata": {},
   "source": [
    "# Analiza rowerowa"
   ]
  },
  {
   "cell_type": "markdown",
   "metadata": {},
   "source": [
    "### Import modółów"
   ]
  },
  {
   "cell_type": "code",
   "execution_count": 25,
   "metadata": {},
   "outputs": [],
   "source": [
    "import pandas as pd\n",
    "import numpy as np"
   ]
  },
  {
   "cell_type": "markdown",
   "metadata": {},
   "source": [
    "### Definicja funkcji"
   ]
  },
  {
   "cell_type": "code",
   "execution_count": 64,
   "metadata": {},
   "outputs": [],
   "source": [
    "def count_bikes(bikes):\n",
    "    \"\"\"\n",
    "    Counts number of bikes at the station in the preprocessed dataframe.\n",
    "    Is used for creating the column [no_bikes]\n",
    "    \"\"\"\n",
    "    if bikes == '0':\n",
    "        return 0\n",
    "    else:\n",
    "        return bikes.count(',')+1\n",
    "\n",
    "def string_to_intlist(s):\n",
    "    \"\"\"\n",
    "    Is used to process the row of the column [bikes] in such a way that\n",
    "    it changes it from the string to the list of ints\n",
    "    \"\"\"\n",
    "    if s==0:\n",
    "        return s\n",
    "    s=s.split(',')\n",
    "    s=list(map(int,s))\n",
    "    return s\n",
    "    \n",
    "def bikes_to_list(df):\n",
    "    \"\"\"\n",
    "    Changes the column [bikes] into the same column but with the lists of ints instead of strings\n",
    "    \"\"\"\n",
    "    df['bikes'] = df.apply(lambda x: string_to_intlist(x['bikes']), axis = 1)\n",
    "    return df\n",
    "\n",
    "def find_station(station_Id, df):\n",
    "    \"\"\"\n",
    "    Returns the DataFrame with the filtered rows: they have to containt the information about \n",
    "    the specific station: station_Id\n",
    "    \"\"\"\n",
    "    return df[df['station_ID'] == station_Id]\n",
    "\n",
    "def find_bike(bike_Id, df):\n",
    "    \"\"\"\n",
    "    Returns the DataFrame with the rows that contain the specific bike: bike_Id\n",
    "    \"\"\"\n",
    "    df = df.loc[df['bikes'].apply(lambda x: bike_Id in x)]\n",
    "    return df.drop(columns=['bikes', 'no_bikes', 'no_racks'])\n",
    "\n",
    "def bike_movement(df):\n",
    "    \"\"\"\n",
    "    As an input we take the DataFrame which was the result of the find_bike!\n",
    "    We return the DataFrame with all the changes of stations of the particular bike.\n",
    "    \"\"\"\n",
    "    df = df.reset_index(drop=True)\n",
    "    if len(df) <=2:\n",
    "        print('the data frame is too short!')\n",
    "        return 0\n",
    "    temp_df = df[:2]\n",
    "    station = df['station_ID'][0]\n",
    "    temp_df = temp_df.append(df.iloc[0])\n",
    "    \n",
    "    for i in range(1, len(df)):\n",
    "        if df['station_ID'][i] != station:\n",
    "            temp_df = temp_df.append(df.iloc[i-1])\n",
    "            temp_df = temp_df.append(df.iloc[i])\n",
    "            station = df['station_ID'][i]\n",
    "    temp_df = temp_df.drop(index=[0])\n",
    "    temp_df = temp_df.reset_index(drop=True)\n",
    "    return temp_df\n",
    "\n",
    "def mean_occupation(station_id, df):\n",
    "    \"\"\"\n",
    "    The function takes as an argument a DataFrame and the station_id, then returns an array of the form [[hour],[mean_no_of_bikes]]\n",
    "    \"\"\"\n",
    "    temp_df = find_station(station_id, df)\n",
    "    temp_df = temp_df.groupby('hour')['no_bikes'].mean()\n",
    "    a = temp_df.values\n",
    "    h = np.array([0,1,2,3,4,5,6,7,8,9,10,11,12,13,14,15,16,17,18,19,20,21,22,23])\n",
    "    return np.array([h,a])"
   ]
  },
  {
   "cell_type": "markdown",
   "metadata": {},
   "source": [
    "### Wczytanie i preprocessing danych"
   ]
  },
  {
   "cell_type": "code",
   "execution_count": 3,
   "metadata": {},
   "outputs": [],
   "source": [
    "df = pd.read_csv('veturilo_statistics.csv', names = ['date','station_ID', 'no_racks','bikes'])\n",
    "\n",
    "#df = df[:200000]"
   ]
  },
  {
   "cell_type": "code",
   "execution_count": 4,
   "metadata": {},
   "outputs": [],
   "source": [
    "df['datetime']=pd.to_datetime(df.date, infer_datetime_format = True)\n",
    "df['day']=df['datetime'].apply(lambda x: x.day)\n",
    "df['month']=df['datetime'].apply(lambda x: x.month)\n",
    "df['year']=df['datetime'].apply(lambda x: x.year)\n",
    "df['hour']=df['datetime'].apply(lambda x: x.hour)\n",
    "df['minute']=df['datetime'].apply(lambda x: x.minute)\n",
    "df=df.drop(columns=['date','datetime'])"
   ]
  },
  {
   "cell_type": "code",
   "execution_count": 5,
   "metadata": {},
   "outputs": [],
   "source": [
    "df['bikes']=df['bikes'].fillna('0')\n",
    "df['no_bikes'] = df.apply(lambda x: count_bikes(x.bikes),axis=1)\n",
    "df = bikes_to_list(df)"
   ]
  },
  {
   "cell_type": "markdown",
   "metadata": {},
   "source": [
    "### Właściwa analiza"
   ]
  },
  {
   "cell_type": "code",
   "execution_count": 6,
   "metadata": {},
   "outputs": [],
   "source": [
    "bike_24720 = find_bike(24720,df)"
   ]
  },
  {
   "cell_type": "code",
   "execution_count": 12,
   "metadata": {},
   "outputs": [
    {
     "data": {
      "text/html": [
       "<div>\n",
       "<style scoped>\n",
       "    .dataframe tbody tr th:only-of-type {\n",
       "        vertical-align: middle;\n",
       "    }\n",
       "\n",
       "    .dataframe tbody tr th {\n",
       "        vertical-align: top;\n",
       "    }\n",
       "\n",
       "    .dataframe thead th {\n",
       "        text-align: right;\n",
       "    }\n",
       "</style>\n",
       "<table border=\"1\" class=\"dataframe\">\n",
       "  <thead>\n",
       "    <tr style=\"text-align: right;\">\n",
       "      <th></th>\n",
       "      <th>station_ID</th>\n",
       "      <th>day</th>\n",
       "      <th>month</th>\n",
       "      <th>year</th>\n",
       "      <th>hour</th>\n",
       "      <th>minute</th>\n",
       "    </tr>\n",
       "  </thead>\n",
       "  <tbody>\n",
       "    <tr>\n",
       "      <th>0</th>\n",
       "      <td>9402</td>\n",
       "      <td>4</td>\n",
       "      <td>4</td>\n",
       "      <td>2019</td>\n",
       "      <td>20</td>\n",
       "      <td>9</td>\n",
       "    </tr>\n",
       "    <tr>\n",
       "      <th>1</th>\n",
       "      <td>9402</td>\n",
       "      <td>5</td>\n",
       "      <td>4</td>\n",
       "      <td>2019</td>\n",
       "      <td>13</td>\n",
       "      <td>4</td>\n",
       "    </tr>\n",
       "    <tr>\n",
       "      <th>2</th>\n",
       "      <td>9404</td>\n",
       "      <td>5</td>\n",
       "      <td>4</td>\n",
       "      <td>2019</td>\n",
       "      <td>13</td>\n",
       "      <td>14</td>\n",
       "    </tr>\n",
       "    <tr>\n",
       "      <th>3</th>\n",
       "      <td>9404</td>\n",
       "      <td>6</td>\n",
       "      <td>4</td>\n",
       "      <td>2019</td>\n",
       "      <td>19</td>\n",
       "      <td>33</td>\n",
       "    </tr>\n",
       "    <tr>\n",
       "      <th>4</th>\n",
       "      <td>9402</td>\n",
       "      <td>6</td>\n",
       "      <td>4</td>\n",
       "      <td>2019</td>\n",
       "      <td>19</td>\n",
       "      <td>43</td>\n",
       "    </tr>\n",
       "  </tbody>\n",
       "</table>\n",
       "</div>"
      ],
      "text/plain": [
       "   station_ID  day  month  year  hour  minute\n",
       "0        9402    4      4  2019    20       9\n",
       "1        9402    5      4  2019    13       4\n",
       "2        9404    5      4  2019    13      14\n",
       "3        9404    6      4  2019    19      33\n",
       "4        9402    6      4  2019    19      43"
      ]
     },
     "execution_count": 12,
     "metadata": {},
     "output_type": "execute_result"
    }
   ],
   "source": [
    "bike_movement(bike_24720).head()"
   ]
  },
  {
   "cell_type": "code",
   "execution_count": 65,
   "metadata": {},
   "outputs": [],
   "source": [
    "a=find_station(9534, df)\n",
    "a = mean_occupation(9534, df)"
   ]
  }
 ],
 "metadata": {
  "kernelspec": {
   "display_name": "Python 3",
   "language": "python",
   "name": "python3"
  },
  "language_info": {
   "codemirror_mode": {
    "name": "ipython",
    "version": 3
   },
   "file_extension": ".py",
   "mimetype": "text/x-python",
   "name": "python",
   "nbconvert_exporter": "python",
   "pygments_lexer": "ipython3",
   "version": "3.7.3"
  }
 },
 "nbformat": 4,
 "nbformat_minor": 2
}
